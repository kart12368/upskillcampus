{
  "nbformat": 4,
  "nbformat_minor": 0,
  "metadata": {
    "colab": {
      "provenance": []
    },
    "kernelspec": {
      "name": "python3",
      "display_name": "Python 3"
    },
    "language_info": {
      "name": "python"
    }
  },
  "cells": [
    {
      "cell_type": "code",
      "source": [
        "# # Step 1: Import necessary libraries\n",
        "from google.colab import drive\n",
        "import os\n",
        "\n",
        "# # Step 2: Authenticate and mount Google Drive\n",
        "drive.mount('/content/drive')\n",
        "\n",
        "# Step 3: Access files in your Google Drive\n",
        "drive_root = '/content/drive/MyDrive/Learnings from UniConverge INternship/MiningProcess_Flotation_Plant_Database.csv'"
      ],
      "metadata": {
        "colab": {
          "base_uri": "https://localhost:8080/"
        },
        "id": "KKxT5BUwtNJN",
        "outputId": "a71e5bf7-fd92-49e8-f17d-f8bd483e7bfe"
      },
      "execution_count": null,
      "outputs": [
        {
          "output_type": "stream",
          "name": "stdout",
          "text": [
            "Mounted at /content/drive\n"
          ]
        }
      ]
    },
    {
      "cell_type": "code",
      "execution_count": null,
      "metadata": {
        "id": "MqCOVir8sKkk",
        "colab": {
          "base_uri": "https://localhost:8080/"
        },
        "outputId": "d848e62e-6efa-4028-c796-c5da34d50445"
      },
      "outputs": [
        {
          "output_type": "stream",
          "name": "stdout",
          "text": [
            "Mean Squared Error: 5.605746191440427e-28\n"
          ]
        }
      ],
      "source": [
        "import pandas as pd\n",
        "from sklearn.model_selection import train_test_split\n",
        "from sklearn.linear_model import LinearRegression\n",
        "from sklearn.metrics import mean_squared_error\n",
        "\n",
        "# Load the dataset\n",
        "data = pd.read_csv(drive_root)\n",
        "\n",
        "# Preprocess: Replace commas with dots in numeric columns\n",
        "numeric_columns = data.columns[1:]\n",
        "data[numeric_columns] = data[numeric_columns].replace({',': '.'}, regex=True)\n",
        "\n",
        "# Convert the numeric columns to float\n",
        "data[numeric_columns] = data[numeric_columns].astype(float)\n",
        "\n",
        "features = data.columns[1:24]\n",
        "\n",
        "target = '% Silica Concentrate'\n",
        "\n",
        "# Split the data into features and target\n",
        "X = data[features]\n",
        "y = data[target]\n",
        "\n",
        "X_train, X_test, y_train, y_test = train_test_split(X, y, test_size=0.2, random_state=42)\n",
        "\n",
        "model = LinearRegression()\n",
        "\n",
        "model.fit(X_train, y_train)\n",
        "\n",
        "# Predict % Silica Concentrate on the test set\n",
        "y_pred = model.predict(X_test)\n",
        "\n",
        "# Evaluate the model using Mean Squared Error\n",
        "mse = mean_squared_error(y_test, y_pred)\n",
        "\n",
        "print(\"Mean Squared Error:\", mse)\n"
      ]
    },
    {
      "cell_type": "markdown",
      "source": [
        " Is it possible to predict % Silica Concentrate every minute?"
      ],
      "metadata": {
        "id": "AcPQGiSWjZXR"
      }
    },
    {
      "cell_type": "code",
      "source": [
        "import pandas as pd\n",
        "\n",
        "data = pd.read_csv(drive_root)\n",
        "\n",
        "# Preprocessing: Convert the date column to datetime format\n",
        "data['date'] = pd.to_datetime(data['date'])\n",
        "\n",
        "data = data.sort_values('date')\n",
        "\n",
        "# Calculate the time difference between consecutive records\n",
        "data['time_diff'] = data['date'].diff()\n",
        "\n",
        "# Check the unique time differences\n",
        "unique_time_diff = data['time_diff'].dropna().unique()\n",
        "\n",
        "# Print the unique time differences\n",
        "print(\"Unique time differences between records:\")\n",
        "print(unique_time_diff)\n"
      ],
      "metadata": {
        "colab": {
          "base_uri": "https://localhost:8080/"
        },
        "id": "8FXG4CSkrIlI",
        "outputId": "1a4b92cd-1347-4863-8247-d81066aaf611"
      },
      "execution_count": null,
      "outputs": [
        {
          "output_type": "stream",
          "name": "stdout",
          "text": [
            "Unique time differences between records:\n",
            "[               0    3600000000000 1148400000000000]\n"
          ]
        }
      ]
    },
    {
      "cell_type": "markdown",
      "source": [
        "How many steps (hours) ahead can we predict % Silica in Concentrate?"
      ],
      "metadata": {
        "id": "BYlkI9hrj03H"
      }
    },
    {
      "cell_type": "code",
      "source": [
        "import pandas as pd\n",
        "\n",
        "data = pd.read_csv(drive_root)\n",
        "\n",
        "# Preprocessing: Convert the date column to datetime format\n",
        "data['date'] = pd.to_datetime(data['date'])\n",
        "\n",
        "data = data.sort_values('date')\n",
        "\n",
        "# Calculate the time difference between consecutive records\n",
        "data['time_diff'] = data['date'].diff()\n",
        "\n",
        "# Convert time differences to hours\n",
        "data['time_diff_hours'] = data['time_diff'].dt.total_seconds() / 3600\n",
        "\n",
        "# Find the maximum time difference (in hours)\n",
        "max_time_diff_hours = data['time_diff_hours'].max()\n",
        "\n",
        "print(\"Maximum time difference (hours):\", max_time_diff_hours)\n"
      ],
      "metadata": {
        "colab": {
          "base_uri": "https://localhost:8080/"
        },
        "id": "O5Q7inT9sJgW",
        "outputId": "3ad272f2-4b57-4ce9-98e9-bcbdd48e275b"
      },
      "execution_count": null,
      "outputs": [
        {
          "output_type": "stream",
          "name": "stdout",
          "text": [
            "Maximum time difference (hours): 319.0\n"
          ]
        }
      ]
    },
    {
      "cell_type": "markdown",
      "source": [
        "Is it possible to predict % Silica in Concentrate without using % Iron Concentrate column (as they are highly correlated)?"
      ],
      "metadata": {
        "id": "R_N53zgTj2wh"
      }
    },
    {
      "cell_type": "code",
      "source": [
        "import pandas as pd\n",
        "from sklearn.model_selection import train_test_split\n",
        "from sklearn.linear_model import LinearRegression\n",
        "from sklearn.metrics import mean_squared_error\n",
        "\n",
        "data = pd.read_csv(drive_root, thousands=',')\n",
        "\n",
        "# Select all features except '% Iron Concentrate', '% Silica Concentrate', and 'date'\n",
        "selected_features = [col for col in data.columns if col not in ['% Iron Concentrate', '% Silica Concentrate', 'date']]\n",
        "\n",
        "for col in selected_features:\n",
        "    if data[col].dtype == object:  # Check if the column contains strings (comma-separated values)\n",
        "        data[col] = data[col].str.replace(',', '.').astype(float)\n",
        "\n",
        "# Select the target variable\n",
        "target = '% Silica Concentrate'\n",
        "\n",
        "X = data[selected_features]\n",
        "y = data[target]\n",
        "X_train, X_test, y_train, y_test = train_test_split(X, y, test_size=0.2, random_state=42)\n",
        "\n",
        "model = LinearRegression()\n",
        "model.fit(X_train, y_train)\n",
        "\n",
        "y_pred = model.predict(X_test)\n",
        "\n",
        "# Calculate mean squared error\n",
        "mse = mean_squared_error(y_test, y_pred)\n",
        "\n",
        "print(\"Mean Squared Error:\", mse)\n"
      ],
      "metadata": {
        "id": "4bgMaJM0sXWf",
        "colab": {
          "base_uri": "https://localhost:8080/"
        },
        "outputId": "7a060d1f-794f-44a0-bfb4-7d2d7560bd46"
      },
      "execution_count": null,
      "outputs": [
        {
          "output_type": "stream",
          "name": "stdout",
          "text": [
            "Mean Squared Error: 1.0379076390153208e+20\n"
          ]
        }
      ]
    }
  ]
}